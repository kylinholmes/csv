{
 "cells": [
  {
   "cell_type": "code",
   "execution_count": 86,
   "metadata": {},
   "outputs": [],
   "source": [
    "import random\n",
    "import datetime\n",
    "import pandas as pd\n",
    "\n",
    "# 生成随机委托数据 tradeAcc,code,clientId,volume,direction,beginTime,endTime,algoType\n",
    "\n",
    "def random_code(num: int):\n",
    "    # a股上海，深圳\n",
    "    h1 = num // 2\n",
    "    h2 = num - h1\n",
    "    sh = random.choices(range(600000, 620000), k=h1)\n",
    "    sz = random.choices(range(1, 10000), k=h2)\n",
    "    sh = [f\"{code:06d}\" for code in sh]\n",
    "    sz = [f\"{code:06d}\" for code in sz]\n",
    "    return sh + sz\n",
    "\n",
    "def random_volume(num: int):\n",
    "    return [random.randint(1, 1000) * 100] * num\n",
    "\n",
    "def random_trade_acc(num: int):\n",
    "    accs = [\n",
    "        \"testAcc01\",\n",
    "        \"testAlice\",\n",
    "        \"testBob\",\n",
    "        \"testCharlie\",\n",
    "        \"testDavid\",\n",
    "        \"testEve\",\n",
    "        \"testMallory\",\n",
    "        \"testOscar\",\n",
    "    ]\n",
    "    return random.choices(accs, k=num)\n",
    "\n",
    "def random_direction(num: int):\n",
    "    return random.choices([\"B\", \"S\"], k=num)\n",
    "\n",
    "def random_begin_time(num: int):\n",
    "    now = datetime.datetime.now()\n",
    "    return [now.strftime(\"%H%M%S\") for _ in range(num)]\n",
    "\n",
    "def random_end_time(num: int):\n",
    "    now = datetime.datetime.now()\n",
    "    return [(now + datetime.timedelta(minutes=random.randint(5, 15))).strftime(\"%H%M%S\") for _ in range(num)]\n",
    "\n",
    "def client_id(num: int): \n",
    "    # 从今天0:00到现在毫秒数\n",
    "    now = datetime.datetime.now()\n",
    "    today_start = datetime.datetime(now.year, now.month, now.day)\n",
    "    milliseconds = int((now - today_start).total_seconds() * 1000)\n",
    "    return [milliseconds + i for i in range(num)]\n",
    "\n",
    "\n",
    "def random_algo_type(num: int):\n",
    "    algo_types = [\n",
    "        \"ALGO_TYPE_1\", \"ALGO_TYPE_2\", \"ALGO_TYPE_3\",\n",
    "        \"SUPERTWAP\", \"TWAP\", \"TWAP_V2\",\n",
    "        \"SUPERVWAP\", \"VWAP\", \"VWAP_V2\",\n",
    "        \"ICEBERG\", \"ICEBERG_V2\",\n",
    "    ]\n",
    "    return random.choices(algo_types, k=num)\n",
    "\n"
   ]
  },
  {
   "cell_type": "code",
   "execution_count": 92,
   "metadata": {},
   "outputs": [],
   "source": [
    "def generate_orders(num: int):\n",
    "    df = pd.DataFrame({\n",
    "        \"tradeAcc\": random_trade_acc(num),\n",
    "        \"code\": random_code(num),\n",
    "        \"clientId\": client_id(num),\n",
    "        \"volume\": random_volume(num),\n",
    "        \"direction\": random_direction(num),\n",
    "        \"beginTime\": random_begin_time(num),\n",
    "        \"endTime\": random_end_time(num),\n",
    "        \"algoType\": random_algo_type(num),\n",
    "    })\n",
    "    return df\n"
   ]
  },
  {
   "cell_type": "code",
   "execution_count": 99,
   "metadata": {},
   "outputs": [],
   "source": [
    "df = generate_orders(int(10))\n",
    "df.to_csv(\"data/orders.csv\", index=False)"
   ]
  },
  {
   "cell_type": "markdown",
   "metadata": {},
   "source": [
    "# BenchMark\n",
    "\n",
    "time for parsing csv fmt string\n",
    "|row| column| time |\n",
    "|--|--|--|\n",
    "|1k|8|784us|\n",
    "|10k|8| 5ms |\n",
    "|1 million|8|243ms|\n",
    "|100 million|8| 26.656s|"
   ]
  }
 ],
 "metadata": {
  "kernelspec": {
   "display_name": "Python 3",
   "language": "python",
   "name": "python3"
  },
  "language_info": {
   "codemirror_mode": {
    "name": "ipython",
    "version": 3
   },
   "file_extension": ".py",
   "mimetype": "text/x-python",
   "name": "python",
   "nbconvert_exporter": "python",
   "pygments_lexer": "ipython3",
   "version": "3.9.6"
  }
 },
 "nbformat": 4,
 "nbformat_minor": 2
}
